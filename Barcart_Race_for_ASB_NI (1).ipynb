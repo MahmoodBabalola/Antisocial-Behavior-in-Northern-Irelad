{
  "nbformat": 4,
  "nbformat_minor": 0,
  "metadata": {
    "colab": {
      "provenance": []
    },
    "kernelspec": {
      "name": "python3",
      "display_name": "Python 3"
    },
    "language_info": {
      "name": "python"
    }
  },
  "cells": [
    {
      "cell_type": "code",
      "execution_count": 1,
      "metadata": {
        "colab": {
          "base_uri": "https://localhost:8080/"
        },
        "id": "wnaPUz2tzSch",
        "outputId": "a063520e-629c-47ec-84ec-f74c4702fab8"
      },
      "outputs": [
        {
          "output_type": "stream",
          "name": "stdout",
          "text": [
            "Looking in indexes: https://pypi.org/simple, https://us-python.pkg.dev/colab-wheels/public/simple/\n",
            "Collecting bar-chart-race\n",
            "  Downloading bar_chart_race-0.1.0-py3-none-any.whl (156 kB)\n",
            "\u001b[2K     \u001b[90m━━━━━━━━━━━━━━━━━━━━━━━━━━━━━━━━━━━━━━━\u001b[0m \u001b[32m156.8/156.8 KB\u001b[0m \u001b[31m8.3 MB/s\u001b[0m eta \u001b[36m0:00:00\u001b[0m\n",
            "\u001b[?25hRequirement already satisfied: matplotlib>=3.1 in /usr/local/lib/python3.8/dist-packages (from bar-chart-race) (3.2.2)\n",
            "Requirement already satisfied: pandas>=0.24 in /usr/local/lib/python3.8/dist-packages (from bar-chart-race) (1.3.5)\n",
            "Requirement already satisfied: numpy>=1.11 in /usr/local/lib/python3.8/dist-packages (from matplotlib>=3.1->bar-chart-race) (1.21.6)\n",
            "Requirement already satisfied: pyparsing!=2.0.4,!=2.1.2,!=2.1.6,>=2.0.1 in /usr/local/lib/python3.8/dist-packages (from matplotlib>=3.1->bar-chart-race) (3.0.9)\n",
            "Requirement already satisfied: kiwisolver>=1.0.1 in /usr/local/lib/python3.8/dist-packages (from matplotlib>=3.1->bar-chart-race) (1.4.4)\n",
            "Requirement already satisfied: python-dateutil>=2.1 in /usr/local/lib/python3.8/dist-packages (from matplotlib>=3.1->bar-chart-race) (2.8.2)\n",
            "Requirement already satisfied: cycler>=0.10 in /usr/local/lib/python3.8/dist-packages (from matplotlib>=3.1->bar-chart-race) (0.11.0)\n",
            "Requirement already satisfied: pytz>=2017.3 in /usr/local/lib/python3.8/dist-packages (from pandas>=0.24->bar-chart-race) (2022.7)\n",
            "Requirement already satisfied: six>=1.5 in /usr/local/lib/python3.8/dist-packages (from python-dateutil>=2.1->matplotlib>=3.1->bar-chart-race) (1.15.0)\n",
            "Installing collected packages: bar-chart-race\n",
            "Successfully installed bar-chart-race-0.1.0\n"
          ]
        }
      ],
      "source": [
        "! pip install bar-chart-race"
      ]
    },
    {
      "cell_type": "code",
      "source": [
        "import bar_chart_race as bcr\n",
        "import pandas as pd\n"
      ],
      "metadata": {
        "id": "LzugO4zu021L"
      },
      "execution_count": 2,
      "outputs": []
    },
    {
      "cell_type": "code",
      "source": [
        "df = pd.read_csv('/content/drive/MyDrive/Data.csv')"
      ],
      "metadata": {
        "id": "BGlVRbE53Gvb"
      },
      "execution_count": 3,
      "outputs": []
    },
    {
      "cell_type": "code",
      "source": [
        "df.head()"
      ],
      "metadata": {
        "id": "sbHntp7410X7"
      },
      "execution_count": null,
      "outputs": []
    },
    {
      "cell_type": "code",
      "source": [
        "df.rename(columns = {\"Row Labels\":\"Date\"}, inplace = True) #rename the first column named Row labels as the date"
      ],
      "metadata": {
        "id": "EOoainYi10UZ"
      },
      "execution_count": 4,
      "outputs": []
    },
    {
      "cell_type": "code",
      "source": [
        "df.set_index('Date', inplace = True)"
      ],
      "metadata": {
        "id": "XubjE2G710Q7"
      },
      "execution_count": 5,
      "outputs": []
    },
    {
      "cell_type": "code",
      "source": [
        "df.head()"
      ],
      "metadata": {
        "colab": {
          "base_uri": "https://localhost:8080/",
          "height": 299
        },
        "id": "HVPZzzcr10Na",
        "outputId": "00ca291d-e990-481d-ecd2-86dfde1c674b"
      },
      "execution_count": 6,
      "outputs": [
        {
          "output_type": "execute_result",
          "data": {
            "text/plain": [
              "      Antrim & Newtownabbey  Ards & North Down  \\\n",
              "Date                                             \n",
              "2008                   5004               4735   \n",
              "2009                   6788               5743   \n",
              "2010                   6252               5316   \n",
              "2011                   4753               4974   \n",
              "2012                   4501               5106   \n",
              "\n",
              "      Armagh City Banbridge & Craigavon  Belfast City  Causeway Coast & Glens  \\\n",
              "Date                                                                            \n",
              "2008                               6257         18625                    5427   \n",
              "2009                               7089         23650                    6808   \n",
              "2010                               6331         22971                    5832   \n",
              "2011                               5335         19118                    5140   \n",
              "2012                               5619         19118                    5669   \n",
              "\n",
              "      Derry City & Strabane  Fermanagh & Omagh  Lisburn & Castlereagh City  \\\n",
              "Date                                                                         \n",
              "2008                   5495               3163                        3760   \n",
              "2009                   7598               3634                        4583   \n",
              "2010                   7239               3428                        4473   \n",
              "2011                   5854               3095                        3628   \n",
              "2012                   6724               3360                        3149   \n",
              "\n",
              "      Mid & East Antrim  Mid Ulster  Newry Mourne & Down  \n",
              "Date                                                      \n",
              "2008               5025        3562                 5339  \n",
              "2009               5998        4669                 6283  \n",
              "2010               5583        4516                 5585  \n",
              "2011               4751        3993                 4399  \n",
              "2012               4211        3718                 4458  "
            ],
            "text/html": [
              "\n",
              "  <div id=\"df-b630c732-e260-4edc-85bc-2a71b163f64a\">\n",
              "    <div class=\"colab-df-container\">\n",
              "      <div>\n",
              "<style scoped>\n",
              "    .dataframe tbody tr th:only-of-type {\n",
              "        vertical-align: middle;\n",
              "    }\n",
              "\n",
              "    .dataframe tbody tr th {\n",
              "        vertical-align: top;\n",
              "    }\n",
              "\n",
              "    .dataframe thead th {\n",
              "        text-align: right;\n",
              "    }\n",
              "</style>\n",
              "<table border=\"1\" class=\"dataframe\">\n",
              "  <thead>\n",
              "    <tr style=\"text-align: right;\">\n",
              "      <th></th>\n",
              "      <th>Antrim &amp; Newtownabbey</th>\n",
              "      <th>Ards &amp; North Down</th>\n",
              "      <th>Armagh City Banbridge &amp; Craigavon</th>\n",
              "      <th>Belfast City</th>\n",
              "      <th>Causeway Coast &amp; Glens</th>\n",
              "      <th>Derry City &amp; Strabane</th>\n",
              "      <th>Fermanagh &amp; Omagh</th>\n",
              "      <th>Lisburn &amp; Castlereagh City</th>\n",
              "      <th>Mid &amp; East Antrim</th>\n",
              "      <th>Mid Ulster</th>\n",
              "      <th>Newry Mourne &amp; Down</th>\n",
              "    </tr>\n",
              "    <tr>\n",
              "      <th>Date</th>\n",
              "      <th></th>\n",
              "      <th></th>\n",
              "      <th></th>\n",
              "      <th></th>\n",
              "      <th></th>\n",
              "      <th></th>\n",
              "      <th></th>\n",
              "      <th></th>\n",
              "      <th></th>\n",
              "      <th></th>\n",
              "      <th></th>\n",
              "    </tr>\n",
              "  </thead>\n",
              "  <tbody>\n",
              "    <tr>\n",
              "      <th>2008</th>\n",
              "      <td>5004</td>\n",
              "      <td>4735</td>\n",
              "      <td>6257</td>\n",
              "      <td>18625</td>\n",
              "      <td>5427</td>\n",
              "      <td>5495</td>\n",
              "      <td>3163</td>\n",
              "      <td>3760</td>\n",
              "      <td>5025</td>\n",
              "      <td>3562</td>\n",
              "      <td>5339</td>\n",
              "    </tr>\n",
              "    <tr>\n",
              "      <th>2009</th>\n",
              "      <td>6788</td>\n",
              "      <td>5743</td>\n",
              "      <td>7089</td>\n",
              "      <td>23650</td>\n",
              "      <td>6808</td>\n",
              "      <td>7598</td>\n",
              "      <td>3634</td>\n",
              "      <td>4583</td>\n",
              "      <td>5998</td>\n",
              "      <td>4669</td>\n",
              "      <td>6283</td>\n",
              "    </tr>\n",
              "    <tr>\n",
              "      <th>2010</th>\n",
              "      <td>6252</td>\n",
              "      <td>5316</td>\n",
              "      <td>6331</td>\n",
              "      <td>22971</td>\n",
              "      <td>5832</td>\n",
              "      <td>7239</td>\n",
              "      <td>3428</td>\n",
              "      <td>4473</td>\n",
              "      <td>5583</td>\n",
              "      <td>4516</td>\n",
              "      <td>5585</td>\n",
              "    </tr>\n",
              "    <tr>\n",
              "      <th>2011</th>\n",
              "      <td>4753</td>\n",
              "      <td>4974</td>\n",
              "      <td>5335</td>\n",
              "      <td>19118</td>\n",
              "      <td>5140</td>\n",
              "      <td>5854</td>\n",
              "      <td>3095</td>\n",
              "      <td>3628</td>\n",
              "      <td>4751</td>\n",
              "      <td>3993</td>\n",
              "      <td>4399</td>\n",
              "    </tr>\n",
              "    <tr>\n",
              "      <th>2012</th>\n",
              "      <td>4501</td>\n",
              "      <td>5106</td>\n",
              "      <td>5619</td>\n",
              "      <td>19118</td>\n",
              "      <td>5669</td>\n",
              "      <td>6724</td>\n",
              "      <td>3360</td>\n",
              "      <td>3149</td>\n",
              "      <td>4211</td>\n",
              "      <td>3718</td>\n",
              "      <td>4458</td>\n",
              "    </tr>\n",
              "  </tbody>\n",
              "</table>\n",
              "</div>\n",
              "      <button class=\"colab-df-convert\" onclick=\"convertToInteractive('df-b630c732-e260-4edc-85bc-2a71b163f64a')\"\n",
              "              title=\"Convert this dataframe to an interactive table.\"\n",
              "              style=\"display:none;\">\n",
              "        \n",
              "  <svg xmlns=\"http://www.w3.org/2000/svg\" height=\"24px\"viewBox=\"0 0 24 24\"\n",
              "       width=\"24px\">\n",
              "    <path d=\"M0 0h24v24H0V0z\" fill=\"none\"/>\n",
              "    <path d=\"M18.56 5.44l.94 2.06.94-2.06 2.06-.94-2.06-.94-.94-2.06-.94 2.06-2.06.94zm-11 1L8.5 8.5l.94-2.06 2.06-.94-2.06-.94L8.5 2.5l-.94 2.06-2.06.94zm10 10l.94 2.06.94-2.06 2.06-.94-2.06-.94-.94-2.06-.94 2.06-2.06.94z\"/><path d=\"M17.41 7.96l-1.37-1.37c-.4-.4-.92-.59-1.43-.59-.52 0-1.04.2-1.43.59L10.3 9.45l-7.72 7.72c-.78.78-.78 2.05 0 2.83L4 21.41c.39.39.9.59 1.41.59.51 0 1.02-.2 1.41-.59l7.78-7.78 2.81-2.81c.8-.78.8-2.07 0-2.86zM5.41 20L4 18.59l7.72-7.72 1.47 1.35L5.41 20z\"/>\n",
              "  </svg>\n",
              "      </button>\n",
              "      \n",
              "  <style>\n",
              "    .colab-df-container {\n",
              "      display:flex;\n",
              "      flex-wrap:wrap;\n",
              "      gap: 12px;\n",
              "    }\n",
              "\n",
              "    .colab-df-convert {\n",
              "      background-color: #E8F0FE;\n",
              "      border: none;\n",
              "      border-radius: 50%;\n",
              "      cursor: pointer;\n",
              "      display: none;\n",
              "      fill: #1967D2;\n",
              "      height: 32px;\n",
              "      padding: 0 0 0 0;\n",
              "      width: 32px;\n",
              "    }\n",
              "\n",
              "    .colab-df-convert:hover {\n",
              "      background-color: #E2EBFA;\n",
              "      box-shadow: 0px 1px 2px rgba(60, 64, 67, 0.3), 0px 1px 3px 1px rgba(60, 64, 67, 0.15);\n",
              "      fill: #174EA6;\n",
              "    }\n",
              "\n",
              "    [theme=dark] .colab-df-convert {\n",
              "      background-color: #3B4455;\n",
              "      fill: #D2E3FC;\n",
              "    }\n",
              "\n",
              "    [theme=dark] .colab-df-convert:hover {\n",
              "      background-color: #434B5C;\n",
              "      box-shadow: 0px 1px 3px 1px rgba(0, 0, 0, 0.15);\n",
              "      filter: drop-shadow(0px 1px 2px rgba(0, 0, 0, 0.3));\n",
              "      fill: #FFFFFF;\n",
              "    }\n",
              "  </style>\n",
              "\n",
              "      <script>\n",
              "        const buttonEl =\n",
              "          document.querySelector('#df-b630c732-e260-4edc-85bc-2a71b163f64a button.colab-df-convert');\n",
              "        buttonEl.style.display =\n",
              "          google.colab.kernel.accessAllowed ? 'block' : 'none';\n",
              "\n",
              "        async function convertToInteractive(key) {\n",
              "          const element = document.querySelector('#df-b630c732-e260-4edc-85bc-2a71b163f64a');\n",
              "          const dataTable =\n",
              "            await google.colab.kernel.invokeFunction('convertToInteractive',\n",
              "                                                     [key], {});\n",
              "          if (!dataTable) return;\n",
              "\n",
              "          const docLinkHtml = 'Like what you see? Visit the ' +\n",
              "            '<a target=\"_blank\" href=https://colab.research.google.com/notebooks/data_table.ipynb>data table notebook</a>'\n",
              "            + ' to learn more about interactive tables.';\n",
              "          element.innerHTML = '';\n",
              "          dataTable['output_type'] = 'display_data';\n",
              "          await google.colab.output.renderOutput(dataTable, element);\n",
              "          const docLink = document.createElement('div');\n",
              "          docLink.innerHTML = docLinkHtml;\n",
              "          element.appendChild(docLink);\n",
              "        }\n",
              "      </script>\n",
              "    </div>\n",
              "  </div>\n",
              "  "
            ]
          },
          "metadata": {},
          "execution_count": 6
        }
      ]
    },
    {
      "cell_type": "code",
      "source": [
        "\n",
        "bcr.bar_chart_race(\n",
        "    df=df,\n",
        "    filename='ASB_NI.mp4',\n",
        "    orientation='h',\n",
        "    sort='desc',\n",
        "    n_bars=11,\n",
        "    fixed_order=False,\n",
        "    fixed_max=True,\n",
        "    steps_per_period=10,\n",
        "    interpolate_period=False,\n",
        "    label_bars=True,\n",
        "    bar_size=.95,\n",
        "    period_label={'x': .99, 'y': .25, 'ha': 'right', 'va': 'center'},\n",
        "    period_summary_func=lambda v, r: {'x': .99, 'y': .18,\n",
        "                                      's': f'Total ASB Count: {v.nlargest(6).sum():,.0f}',\n",
        "                                      'ha': 'right', 'size': 8, 'family': 'Courier New'},\n",
        "    perpendicular_bar_func='median',\n",
        "    period_length=500,\n",
        "    figsize=(5, 3),\n",
        "    dpi=300,\n",
        "    cmap='dark12',\n",
        "    title='Antisocial Behaviour in Northern Ireland',\n",
        "    title_size='',\n",
        "    bar_label_size=7,\n",
        "    tick_label_size=7,\n",
        "    shared_fontdict={'family' : 'Helvetica', 'color' : '.1'},\n",
        "    scale='linear',\n",
        "    writer=None,\n",
        "    fig=None,\n",
        "    bar_kwargs={'alpha': .7},\n",
        "    filter_column_colors=False) "
      ],
      "metadata": {
        "id": "kNRNY2o510KB",
        "colab": {
          "base_uri": "https://localhost:8080/"
        },
        "outputId": "8a0210c3-9369-438b-eb8b-42db63ae6ceb"
      },
      "execution_count": 7,
      "outputs": [
        {
          "output_type": "stream",
          "name": "stderr",
          "text": [
            "WARNING:matplotlib.font_manager:findfont: Font family ['Helvetica'] not found. Falling back to DejaVu Sans.\n",
            "WARNING:matplotlib.font_manager:findfont: Font family ['Helvetica'] not found. Falling back to DejaVu Sans.\n",
            "WARNING:matplotlib.font_manager:findfont: Font family ['Helvetica'] not found. Falling back to DejaVu Sans.\n",
            "WARNING:matplotlib.font_manager:findfont: Font family ['Courier New'] not found. Falling back to DejaVu Sans.\n"
          ]
        }
      ]
    },
    {
      "cell_type": "code",
      "source": [],
      "metadata": {
        "id": "hZm1Ywva10Ca"
      },
      "execution_count": null,
      "outputs": []
    },
    {
      "cell_type": "code",
      "source": [],
      "metadata": {
        "id": "sH8fukPt1z9R"
      },
      "execution_count": null,
      "outputs": []
    }
  ]
}